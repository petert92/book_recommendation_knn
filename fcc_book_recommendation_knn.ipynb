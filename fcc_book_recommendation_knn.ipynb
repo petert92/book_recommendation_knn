{
  "cells": [
    {
      "cell_type": "markdown",
      "metadata": {
        "id": "uGd4NYQX1Rf_"
      },
      "source": [
        "*Note: You are currently reading this using Google Colaboratory which is a cloud-hosted version of Jupyter Notebook. This is a document containing both text cells for documentation and runnable code cells. If you are unfamiliar with Jupyter Notebook, watch this 3-minute introduction before starting this challenge: https://www.youtube.com/watch?v=inN8seMm7UI*\n",
        "\n",
        "---\n",
        "\n",
        "In this challenge, you will create a book recommendation algorithm using **K-Nearest Neighbors**.\n",
        "\n",
        "You will use the [Book-Crossings dataset](http://www2.informatik.uni-freiburg.de/~cziegler/BX/). This dataset contains 1.1 million ratings (scale of 1-10) of 270,000 books by 90,000 users. \n",
        "\n",
        "After importing and cleaning the data, use `NearestNeighbors` from `sklearn.neighbors` to develop a model that shows books that are similar to a given book. The Nearest Neighbors algorithm measures distance to determine the “closeness” of instances.\n",
        "\n",
        "Create a function named `get_recommends` that takes a book title (from the dataset) as an argument and returns a list of 5 similar books with their distances from the book argument.\n",
        "\n",
        "This code:\n",
        "\n",
        "`get_recommends(\"The Queen of the Damned (Vampire Chronicles (Paperback))\")`\n",
        "\n",
        "should return:\n",
        "\n",
        "```\n",
        "[\n",
        "  'The Queen of the Damned (Vampire Chronicles (Paperback))',\n",
        "  [\n",
        "    ['Catch 22', 0.793983519077301], \n",
        "    ['The Witching Hour (Lives of the Mayfair Witches)', 0.7448656558990479], \n",
        "    ['Interview with the Vampire', 0.7345068454742432],\n",
        "    ['The Tale of the Body Thief (Vampire Chronicles (Paperback))', 0.5376338362693787],\n",
        "    ['The Vampire Lestat (Vampire Chronicles, Book II)', 0.5178412199020386]\n",
        "  ]\n",
        "]\n",
        "```\n",
        "\n",
        "Notice that the data returned from `get_recommends()` is a list. The first element in the list is the book title passed in to the function. The second element in the list is a list of five more lists. Each of the five lists contains a recommended book and the distance from the recommended book to the book passed in to the function.\n",
        "\n",
        "If you graph the dataset (optional), you will notice that most books are not rated frequently. To ensure statistical significance, remove from the dataset users with less than 200 ratings and books with less than 100 ratings.\n",
        "\n",
        "The first three cells import libraries you may need and the data to use. The final cell is for testing. Write all your code in between those cells."
      ]
    },
    {
      "cell_type": "code",
      "execution_count": 5,
      "metadata": {
        "id": "Y1onB6kUvo4Z"
      },
      "outputs": [],
      "source": [
        "#@title Imports\n",
        "# import libraries (you may add additional imports but you may not have to)\n",
        "import numpy as np\n",
        "import pandas as pd\n",
        "from scipy.sparse import csr_matrix\n",
        "from sklearn.neighbors import NearestNeighbors\n",
        "import matplotlib.pyplot as plt\n",
        "from icecream import ic\n",
        "import seaborn as sns"
      ]
    },
    {
      "cell_type": "code",
      "execution_count": 6,
      "metadata": {
        "id": "iAQGqqO_vo4d"
      },
      "outputs": [],
      "source": [
        "# get data files\n",
        "# !wget https://cdn.freecodecamp.org/project-data/books/book-crossings.zip\n",
        "\n",
        "# !unzip book-crossings.zip\n",
        "\n",
        "users_filename = 'BX-Users.csv'\n",
        "books_filename = 'BX-Books.csv'\n",
        "ratings_filename = 'BX-Book-Ratings.csv'"
      ]
    },
    {
      "cell_type": "code",
      "execution_count": 7,
      "metadata": {
        "id": "NClILWOiEd6Q"
      },
      "outputs": [],
      "source": [
        "# import csv data into dataframes\n",
        "df_books = pd.read_csv(\n",
        "    books_filename,\n",
        "    encoding = \"ISO-8859-1\",\n",
        "    sep=\";\",\n",
        "    header=0,\n",
        "    names=['isbn', 'title', 'author'],\n",
        "    usecols=['isbn', 'title', 'author'],\n",
        "    dtype={'isbn': 'str', 'title': 'str', 'author': 'str'})\n",
        "\n",
        "df_ratings = pd.read_csv(\n",
        "    ratings_filename,\n",
        "    encoding = \"ISO-8859-1\",\n",
        "    sep=\";\",\n",
        "    header=0,\n",
        "    names=['user', 'isbn', 'rating'],\n",
        "    usecols=['user', 'isbn', 'rating'],\n",
        "    dtype={'user': 'int32', 'isbn': 'str', 'rating': 'float32'})\n",
        "\n",
        "df_users = pd.read_csv(\n",
        "    users_filename,\n",
        "    encoding = \"ISO-8859-1\",\n",
        "    sep=\";\",\n",
        "    header=0,\n",
        "    names=['user', 'location', 'age'],\n",
        "    usecols=['user', 'location', 'age'],\n",
        "    dtype={'user': 'int32', 'location': 'str', 'age': 'float32'})"
      ]
    },
    {
      "cell_type": "code",
      "execution_count": null,
      "metadata": {
        "id": "xAcXjkCFCh0A"
      },
      "outputs": [],
      "source": [
        "# add your code here - consider creating a new cell for each section of code"
      ]
    },
    {
      "cell_type": "markdown",
      "metadata": {
        "id": "KBnyh8wT7Lhp"
      },
      "source": [
        "# **Data info**\n",
        "df_books:\n",
        "    len= 271379\n",
        "    heads: isbn (271379), title, author\n",
        "\n",
        "df_users:\n",
        "    len= 278858\n",
        "    heads: user, location, age\n",
        "\n",
        "df_ratings:\n",
        "    len= 1149780\n",
        "    heads: user (105283), isbn (340556), rating"
      ]
    },
    {
      "cell_type": "code",
      "execution_count": null,
      "metadata": {
        "id": "ZaFSHPQ-BVT9"
      },
      "outputs": [],
      "source": [
        "df_books.info()"
      ]
    },
    {
      "cell_type": "code",
      "execution_count": null,
      "metadata": {
        "id": "1TviAW7fLo9f"
      },
      "outputs": [],
      "source": [
        "df_users.head()"
      ]
    },
    {
      "cell_type": "code",
      "execution_count": null,
      "metadata": {
        "id": "fJBkCWuOBs0C"
      },
      "outputs": [],
      "source": [
        "df_ratings.head()"
      ]
    },
    {
      "cell_type": "code",
      "execution_count": 56,
      "metadata": {},
      "outputs": [
        {
          "data": {
            "text/plain": [
              "<matplotlib.collections.PathCollection at 0x1a0ffa4bc40>"
            ]
          },
          "execution_count": 56,
          "metadata": {},
          "output_type": "execute_result"
        },
        {
          "data": {
            "image/png": "[encoded data removed]",
            "text/plain": [
              "<Figure size 432x288 with 1 Axes>"
            ]
          },
          "metadata": {
            "needs_background": "light"
          },
          "output_type": "display_data"
        }
      ],
      "source": [
        "plt.axhline(y = 200, color = 'r', linestyle = '-')\n",
        "plt.scatter(df_ratings['user'].value_counts().index, df_ratings['user'].value_counts(), marker='.')"
      ]
    },
    {
      "cell_type": "code",
      "execution_count": 67,
      "metadata": {},
      "outputs": [
        {
          "data": {
            "text/plain": [
              "<matplotlib.collections.PathCollection at 0x1a17fe89ba0>"
            ]
          },
          "execution_count": 67,
          "metadata": {},
          "output_type": "execute_result"
        },
        {
          "data": {
            "image/png": "[encoded data removed]",
            "text/plain": [
              "<Figure size 432x288 with 1 Axes>"
            ]
          },
          "metadata": {
            "needs_background": "light"
          },
          "output_type": "display_data"
        }
      ],
      "source": [
        "x = df_ratings['isbn'].value_counts().index\n",
        "y = df_ratings['isbn'].value_counts()\n",
        "plt.axhline(y = 100, color = 'r', linestyle = '-')\n",
        "plt.axvline(x= 5, color= 'r', linestyle= '-')\n",
        "plt.ylim(0, 500)\n",
        "plt.scatter(range(len(x)), y, marker='.')"
      ]
    },
    {
      "cell_type": "code",
      "execution_count": 45,
      "metadata": {},
      "outputs": [
        {
          "data": {
            "text/plain": [
              "user \n",
              "False    104384\n",
              "True        899\n",
              "dtype: int64"
            ]
          },
          "execution_count": 45,
          "metadata": {},
          "output_type": "execute_result"
        }
      ],
      "source": [
        "pd.DataFrame(df_ratings['user'].value_counts() > 200).value_counts()"
      ]
    },
    {
      "cell_type": "markdown",
      "metadata": {
        "id": "i4mq87NszyLE"
      },
      "source": [
        "# Data prepare\n",
        "3 different ways\n",
        "1. users>200ratings -> books>100ratings\n",
        "2. ooks>100ratings -> users>200ratings\n",
        "3. (users>200ratings & ooks>100ratings)"
      ]
    },
    {
      "cell_type": "markdown",
      "metadata": {
        "id": "1_7XV5jZzENt"
      },
      "source": [
        "## **Data prepare #1**\n",
        "- 1st: take ratings from users that rated more than 199 times\n",
        "- 2nd: from 1st dataFame take books that where rated more than 99 times\n",
        "\n",
        "Result: 13,793 len dataset -> 1.2% from total ratings\n",
        "SQL result: 13,802 len dataset -> 1.2% from total ratings"
      ]
    },
    {
      "cell_type": "code",
      "execution_count": 8,
      "metadata": {
        "id": "VqP-122cqb2o"
      },
      "outputs": [
        {
          "data": {
            "text/html": [
              "<div>\n",
              "<style scoped>\n",
              "    .dataframe tbody tr th:only-of-type {\n",
              "        vertical-align: middle;\n",
              "    }\n",
              "\n",
              "    .dataframe tbody tr th {\n",
              "        vertical-align: top;\n",
              "    }\n",
              "\n",
              "    .dataframe thead th {\n",
              "        text-align: right;\n",
              "    }\n",
              "</style>\n",
              "<table border=\"1\" class=\"dataframe\">\n",
              "  <thead>\n",
              "    <tr style=\"text-align: right;\">\n",
              "      <th></th>\n",
              "      <th>user</th>\n",
              "      <th>bool_index</th>\n",
              "    </tr>\n",
              "  </thead>\n",
              "  <tbody>\n",
              "    <tr>\n",
              "      <th>0</th>\n",
              "      <td>11676</td>\n",
              "      <td>True</td>\n",
              "    </tr>\n",
              "    <tr>\n",
              "      <th>1</th>\n",
              "      <td>198711</td>\n",
              "      <td>True</td>\n",
              "    </tr>\n",
              "    <tr>\n",
              "      <th>2</th>\n",
              "      <td>153662</td>\n",
              "      <td>True</td>\n",
              "    </tr>\n",
              "    <tr>\n",
              "      <th>3</th>\n",
              "      <td>98391</td>\n",
              "      <td>True</td>\n",
              "    </tr>\n",
              "    <tr>\n",
              "      <th>4</th>\n",
              "      <td>35859</td>\n",
              "      <td>True</td>\n",
              "    </tr>\n",
              "    <tr>\n",
              "      <th>...</th>\n",
              "      <td>...</td>\n",
              "      <td>...</td>\n",
              "    </tr>\n",
              "    <tr>\n",
              "      <th>105278</th>\n",
              "      <td>116180</td>\n",
              "      <td>False</td>\n",
              "    </tr>\n",
              "    <tr>\n",
              "      <th>105279</th>\n",
              "      <td>116166</td>\n",
              "      <td>False</td>\n",
              "    </tr>\n",
              "    <tr>\n",
              "      <th>105280</th>\n",
              "      <td>116154</td>\n",
              "      <td>False</td>\n",
              "    </tr>\n",
              "    <tr>\n",
              "      <th>105281</th>\n",
              "      <td>116137</td>\n",
              "      <td>False</td>\n",
              "    </tr>\n",
              "    <tr>\n",
              "      <th>105282</th>\n",
              "      <td>276723</td>\n",
              "      <td>False</td>\n",
              "    </tr>\n",
              "  </tbody>\n",
              "</table>\n",
              "<p>105283 rows × 2 columns</p>\n",
              "</div>"
            ],
            "text/plain": [
              "          user  bool_index\n",
              "0        11676        True\n",
              "1       198711        True\n",
              "2       153662        True\n",
              "3        98391        True\n",
              "4        35859        True\n",
              "...        ...         ...\n",
              "105278  116180       False\n",
              "105279  116166       False\n",
              "105280  116154       False\n",
              "105281  116137       False\n",
              "105282  276723       False\n",
              "\n",
              "[105283 rows x 2 columns]"
            ]
          },
          "execution_count": 8,
          "metadata": {},
          "output_type": "execute_result"
        }
      ],
      "source": [
        "# Get the users than rated more than 200 times\n",
        "users_more200ratings= pd.DataFrame((df_ratings['user'].value_counts() >= 200))\n",
        "users_more200ratings.reset_index(inplace=True)\n",
        "users_more200ratings.rename(columns={'index':'user','user':'bool_index'}, inplace=True)\n",
        "users_more200ratings # +105k users\n",
        "# users_more200ratings['bool_index'].value_counts() # 104,378 false users; 905 true users"
      ]
    },
    {
      "cell_type": "code",
      "execution_count": 9,
      "metadata": {
        "id": "U7-0wUWHr1wq"
      },
      "outputs": [
        {
          "name": "stdout",
          "output_type": "stream",
          "text": [
            "<class 'pandas.core.frame.DataFrame'>\n",
            "Int64Index: 527556 entries, 1456 to 1147616\n",
            "Data columns (total 3 columns):\n",
            " #   Column  Non-Null Count   Dtype  \n",
            "---  ------  --------------   -----  \n",
            " 0   user    527556 non-null  int32  \n",
            " 1   isbn    527556 non-null  object \n",
            " 2   rating  527556 non-null  float32\n",
            "dtypes: float32(1), int32(1), object(1)\n",
            "memory usage: 12.1+ MB\n"
          ]
        }
      ],
      "source": [
        "# Get ratings where users rated more than 200 times\n",
        "df_ratings_users = df_ratings[df_ratings['user'].isin(users_more200ratings['user'].where(users_more200ratings['bool_index']==True))]\n",
        "df_ratings_users.info() # 527,556 ratings where users rated more than 200 times"
      ]
    },
    {
      "cell_type": "code",
      "execution_count": 10,
      "metadata": {
        "colab": {
          "base_uri": "https://localhost:8080/",
          "height": 206
        },
        "id": "sGo_l7n-u1k5",
        "outputId": "0b490662-81eb-435d-dbd5-cc07a78c81ae"
      },
      "outputs": [
        {
          "data": {
            "text/html": [
              "<div>\n",
              "<style scoped>\n",
              "    .dataframe tbody tr th:only-of-type {\n",
              "        vertical-align: middle;\n",
              "    }\n",
              "\n",
              "    .dataframe tbody tr th {\n",
              "        vertical-align: top;\n",
              "    }\n",
              "\n",
              "    .dataframe thead th {\n",
              "        text-align: right;\n",
              "    }\n",
              "</style>\n",
              "<table border=\"1\" class=\"dataframe\">\n",
              "  <thead>\n",
              "    <tr style=\"text-align: right;\">\n",
              "      <th></th>\n",
              "      <th>isbn</th>\n",
              "      <th>bool_index</th>\n",
              "    </tr>\n",
              "  </thead>\n",
              "  <tbody>\n",
              "    <tr>\n",
              "      <th>0</th>\n",
              "      <td>0971880107</td>\n",
              "      <td>True</td>\n",
              "    </tr>\n",
              "    <tr>\n",
              "      <th>1</th>\n",
              "      <td>0316666343</td>\n",
              "      <td>True</td>\n",
              "    </tr>\n",
              "    <tr>\n",
              "      <th>2</th>\n",
              "      <td>0060928336</td>\n",
              "      <td>True</td>\n",
              "    </tr>\n",
              "    <tr>\n",
              "      <th>3</th>\n",
              "      <td>0440214041</td>\n",
              "      <td>True</td>\n",
              "    </tr>\n",
              "    <tr>\n",
              "      <th>4</th>\n",
              "      <td>0385504209</td>\n",
              "      <td>True</td>\n",
              "    </tr>\n",
              "  </tbody>\n",
              "</table>\n",
              "</div>"
            ],
            "text/plain": [
              "         isbn  bool_index\n",
              "0  0971880107        True\n",
              "1  0316666343        True\n",
              "2  0060928336        True\n",
              "3  0440214041        True\n",
              "4  0385504209        True"
            ]
          },
          "execution_count": 10,
          "metadata": {},
          "output_type": "execute_result"
        }
      ],
      "source": [
        "# Get books that were rated more than 100 times from df_ratings_users\n",
        "isbn_more100ratings = pd.DataFrame(df_ratings_users['isbn'].value_counts() >= 100)\n",
        "isbn_more100ratings.reset_index(inplace=True)\n",
        "isbn_more100ratings.rename(columns={'index':'isbn','isbn':'bool_index'}, inplace=True)\n",
        "# isbn_more100ratings['bool_index'].value_counts() # 100 books that were rated more than 100 times\n",
        "isbn_more100ratings.head()"
      ]
    },
    {
      "cell_type": "code",
      "execution_count": 68,
      "metadata": {
        "colab": {
          "base_uri": "https://localhost:8080/",
          "height": 206
        },
        "id": "pSC5PO-JxxIY",
        "outputId": "4ba3d726-0e6d-4b2f-a146-ca2d6eb3d561"
      },
      "outputs": [
        {
          "name": "stdout",
          "output_type": "stream",
          "text": [
            "<class 'pandas.core.frame.DataFrame'>\n",
            "Int64Index: 13793 entries, 1469 to 1146988\n",
            "Data columns (total 3 columns):\n",
            " #   Column  Non-Null Count  Dtype  \n",
            "---  ------  --------------  -----  \n",
            " 0   user    13793 non-null  int32  \n",
            " 1   isbn    13793 non-null  object \n",
            " 2   rating  13793 non-null  float32\n",
            "dtypes: float32(1), int32(1), object(1)\n",
            "memory usage: 323.3+ KB\n"
          ]
        }
      ],
      "source": [
        "# Get ratings where books were rate more than 100 times from df_ratings_users\n",
        "df_ratings_isbn = df_ratings_users[df_ratings_users['isbn'].isin(isbn_more100ratings['isbn'].where(isbn_more100ratings['bool_index']==True))]\n",
        "# df_ratings_isbn.info() # 13,793 ratings where users rated more than 200 times and books where rate more than 100 times\n",
        "df_ratings_isbn.info()"
      ]
    },
    {
      "cell_type": "markdown",
      "metadata": {
        "id": "OGephfcA0uDb"
      },
      "source": [
        "## **Data prepare #2**\n",
        "\n",
        "- 1st from 1st dataFame take books that where rate more than 99 times\n",
        "- 2nd take ratings from users that rated more than 199 times \n",
        "\n",
        "Result: 5588 len dataset -> 0.5% from total ratings\n",
        "SQL result: 5589 len dataset -> 0.5% from total ratings"
      ]
    },
    {
      "cell_type": "code",
      "execution_count": 12,
      "metadata": {
        "id": "jTh1e6ms2GoP"
      },
      "outputs": [
        {
          "data": {
            "text/plain": [
              "False    339825\n",
              "True        731\n",
              "Name: bool_index, dtype: int64"
            ]
          },
          "execution_count": 12,
          "metadata": {},
          "output_type": "execute_result"
        }
      ],
      "source": [
        "# Get books that were rate more than 100 times \n",
        "isbn_more100ratings_2 = pd.DataFrame(df_ratings['isbn'].value_counts() >= 100)\n",
        "isbn_more100ratings_2.reset_index(inplace=True)\n",
        "isbn_more100ratings_2.rename(columns={'index':'isbn','isbn':'bool_index'}, inplace=True)\n",
        "isbn_more100ratings_2['bool_index'].value_counts() # 731 books that were rate more than 100 times\n",
        "# isbn_more100ratings_2.head()"
      ]
    },
    {
      "cell_type": "code",
      "execution_count": 13,
      "metadata": {},
      "outputs": [
        {
          "name": "stdout",
          "output_type": "stream",
          "text": [
            "<class 'pandas.core.frame.DataFrame'>\n",
            "Int64Index: 138461 entries, 2 to 1149772\n",
            "Data columns (total 3 columns):\n",
            " #   Column  Non-Null Count   Dtype  \n",
            "---  ------  --------------   -----  \n",
            " 0   user    138461 non-null  int32  \n",
            " 1   isbn    138461 non-null  object \n",
            " 2   rating  138461 non-null  float32\n",
            "dtypes: float32(1), int32(1), object(1)\n",
            "memory usage: 3.2+ MB\n"
          ]
        }
      ],
      "source": [
        "# Get ratings where books were rate more than 100 times\n",
        "df_ratings_isbn_2 = df_ratings[df_ratings['isbn'].isin(isbn_more100ratings_2['isbn'].where(isbn_more100ratings_2['bool_index']==True))]\n",
        "df_ratings_isbn_2.info() # 138461 ratings where books were rate more than 100 times # sql result: 138537 (dif=76)"
      ]
    },
    {
      "cell_type": "code",
      "execution_count": 14,
      "metadata": {},
      "outputs": [
        {
          "data": {
            "text/html": [
              "<div>\n",
              "<style scoped>\n",
              "    .dataframe tbody tr th:only-of-type {\n",
              "        vertical-align: middle;\n",
              "    }\n",
              "\n",
              "    .dataframe tbody tr th {\n",
              "        vertical-align: top;\n",
              "    }\n",
              "\n",
              "    .dataframe thead th {\n",
              "        text-align: right;\n",
              "    }\n",
              "</style>\n",
              "<table border=\"1\" class=\"dataframe\">\n",
              "  <thead>\n",
              "    <tr style=\"text-align: right;\">\n",
              "      <th></th>\n",
              "      <th>user</th>\n",
              "      <th>bool_index</th>\n",
              "    </tr>\n",
              "  </thead>\n",
              "  <tbody>\n",
              "    <tr>\n",
              "      <th>0</th>\n",
              "      <td>11676</td>\n",
              "      <td>True</td>\n",
              "    </tr>\n",
              "    <tr>\n",
              "      <th>1</th>\n",
              "      <td>35859</td>\n",
              "      <td>True</td>\n",
              "    </tr>\n",
              "    <tr>\n",
              "      <th>2</th>\n",
              "      <td>16795</td>\n",
              "      <td>True</td>\n",
              "    </tr>\n",
              "    <tr>\n",
              "      <th>3</th>\n",
              "      <td>76352</td>\n",
              "      <td>True</td>\n",
              "    </tr>\n",
              "    <tr>\n",
              "      <th>4</th>\n",
              "      <td>60244</td>\n",
              "      <td>True</td>\n",
              "    </tr>\n",
              "  </tbody>\n",
              "</table>\n",
              "</div>"
            ],
            "text/plain": [
              "    user  bool_index\n",
              "0  11676        True\n",
              "1  35859        True\n",
              "2  16795        True\n",
              "3  76352        True\n",
              "4  60244        True"
            ]
          },
          "execution_count": 14,
          "metadata": {},
          "output_type": "execute_result"
        }
      ],
      "source": [
        "# Get the users than rated more than 200 times from df_ratings_isbn_2\n",
        "users_more200ratings_2= pd.DataFrame((df_ratings_isbn_2['user'].value_counts() >= 200))\n",
        "users_more200ratings_2.reset_index(inplace=True)\n",
        "users_more200ratings_2.rename(columns={'index':'user','user':'bool_index'}, inplace=True)\n",
        "# users_more200ratings_2['bool_index'].value_counts() # 32691 false users; 21 true users\n",
        "users_more200ratings_2.head() # +105k users"
      ]
    },
    {
      "cell_type": "code",
      "execution_count": 15,
      "metadata": {},
      "outputs": [
        {
          "name": "stdout",
          "output_type": "stream",
          "text": [
            "<class 'pandas.core.frame.DataFrame'>\n",
            "Int64Index: 5588 entries, 45462 to 990631\n",
            "Data columns (total 3 columns):\n",
            " #   Column  Non-Null Count  Dtype  \n",
            "---  ------  --------------  -----  \n",
            " 0   user    5588 non-null   int32  \n",
            " 1   isbn    5588 non-null   object \n",
            " 2   rating  5588 non-null   float32\n",
            "dtypes: float32(1), int32(1), object(1)\n",
            "memory usage: 131.0+ KB\n"
          ]
        }
      ],
      "source": [
        "# Get ratings where user rated more than 200 times from df_ratings_isbn_2\n",
        "df_ratings_isbn = df_ratings_isbn_2[df_ratings_isbn_2['user'].isin(users_more200ratings_2['user'].where(users_more200ratings_2['bool_index']==True))]\n",
        "df_ratings_isbn.info() # 5588 ratings where books where rate more than 100 times and users rated more than 200 times\n",
        "# df_ratings_isbn.head()"
      ]
    },
    {
      "cell_type": "markdown",
      "metadata": {},
      "source": [
        "## **Data prepare #3**\n",
        "\n",
        "- from 1st dataFame take books that where rate more than 99 times\n",
        "- take ratings from users that rated more than 199 times \n",
        "- Apply both to dataset\n",
        "\n",
        "Result: 49781 len dataset -> 4.3% from total ratings\n",
        "SQL results: 21465 len dataset -> 1.8% from total ratings"
      ]
    },
    {
      "cell_type": "code",
      "execution_count": 70,
      "metadata": {},
      "outputs": [
        {
          "name": "stdout",
          "output_type": "stream",
          "text": [
            "<class 'pandas.core.frame.DataFrame'>\n",
            "Int64Index: 905 entries, 0 to 904\n",
            "Data columns (total 2 columns):\n",
            " #   Column      Non-Null Count  Dtype\n",
            "---  ------      --------------  -----\n",
            " 0   user        905 non-null    int64\n",
            " 1   bool_index  905 non-null    bool \n",
            "dtypes: bool(1), int64(1)\n",
            "memory usage: 15.0 KB\n"
          ]
        }
      ],
      "source": [
        "# Get the users than rated more than 200 times\n",
        "users_more200ratings_3= pd.DataFrame((df_ratings['user'].value_counts() >= 200))\n",
        "users_more200ratings_3.reset_index(inplace=True)\n",
        "users_more200ratings_3.rename(columns={'index':'user','user':'bool_index'}, inplace=True)\n",
        "users_more200ratings_3 # +105k users\n",
        "# users_more200ratings['bool_index'].value_counts() # 104,378 false users; 905 true users\n",
        "user_index= users_more200ratings_3[users_more200ratings_3['bool_index'] ==True]\n",
        "user_index.info() # 905"
      ]
    },
    {
      "cell_type": "code",
      "execution_count": 69,
      "metadata": {},
      "outputs": [
        {
          "name": "stdout",
          "output_type": "stream",
          "text": [
            "<class 'pandas.core.frame.DataFrame'>\n",
            "Int64Index: 731 entries, 0 to 730\n",
            "Data columns (total 2 columns):\n",
            " #   Column      Non-Null Count  Dtype \n",
            "---  ------      --------------  ----- \n",
            " 0   isbn        731 non-null    object\n",
            " 1   bool_index  731 non-null    bool  \n",
            "dtypes: bool(1), object(1)\n",
            "memory usage: 12.1+ KB\n"
          ]
        }
      ],
      "source": [
        "# Get books that were rated more than 100 times \n",
        "isbn_more100ratings_3 = pd.DataFrame(df_ratings['isbn'].value_counts() >= 100)\n",
        "isbn_more100ratings_3.reset_index(inplace=True)\n",
        "isbn_more100ratings_3.rename(columns={'index':'isbn','isbn':'bool_index'}, inplace=True)\n",
        "isbn_more100ratings_3['bool_index'].value_counts() # 731 books that were rated more than 100 times\n",
        "isbn_more100ratings_2.head()\n",
        "# isbn_more100ratings_3.info() # 340,556 books in whole dataset\n",
        "isbn_index= isbn_more100ratings_3[isbn_more100ratings_3['bool_index'] ==True]\n",
        "isbn_index.info() # 731"
      ]
    },
    {
      "cell_type": "code",
      "execution_count": 53,
      "metadata": {},
      "outputs": [
        {
          "name": "stdout",
          "output_type": "stream",
          "text": [
            "<class 'pandas.core.frame.DataFrame'>\n",
            "Int64Index: 49781 entries, 1456 to 1147441\n",
            "Data columns (total 3 columns):\n",
            " #   Column  Non-Null Count  Dtype  \n",
            "---  ------  --------------  -----  \n",
            " 0   user    49781 non-null  int32  \n",
            " 1   isbn    49781 non-null  object \n",
            " 2   rating  49781 non-null  float32\n",
            "dtypes: float32(1), int32(1), object(1)\n",
            "memory usage: 1.1+ MB\n"
          ]
        }
      ],
      "source": [
        "data = df_ratings[df_ratings['user'].isin(user_index['user']) & df_ratings['isbn'].isin(isbn_index['isbn'])]\n",
        "data.info() # 49781 ratings within users that rated >200 times & books that were rated >100 times"
      ]
    },
    {
      "cell_type": "markdown",
      "metadata": {
        "id": "IqzKbZdt2HBz"
      },
      "source": [
        "# **Recommendation func**"
      ]
    },
    {
      "cell_type": "code",
      "execution_count": null,
      "metadata": {
        "id": "f5ZUd-L1SQz7"
      },
      "outputs": [],
      "source": [
        "# function to return recommended books - this will be tested\n",
        "def get_recommends(book = \"\"):\n",
        "\n",
        "\n",
        "  return recommended_books"
      ]
    },
    {
      "cell_type": "markdown",
      "metadata": {
        "id": "eat9A2TKawHU"
      },
      "source": [
        "# Aplication/Test\n",
        "Use the cell below to test your function. The `test_book_recommendation()` function will inform you if you passed the challenge or need to keep trying."
      ]
    },
    {
      "cell_type": "code",
      "execution_count": null,
      "metadata": {
        "id": "jd2SLCh8oxMh"
      },
      "outputs": [],
      "source": [
        "books = get_recommends(\"Where the Heart Is (Oprah's Book Club (Paperback))\")\n",
        "print(books)\n",
        "\n",
        "def test_book_recommendation():\n",
        "  test_pass = True\n",
        "  recommends = get_recommends(\"Where the Heart Is (Oprah's Book Club (Paperback))\")\n",
        "  if recommends[0] != \"Where the Heart Is (Oprah's Book Club (Paperback))\":\n",
        "    test_pass = False\n",
        "  recommended_books = [\"I'll Be Seeing You\", 'The Weight of Water', 'The Surgeon', 'I Know This Much Is True']\n",
        "  recommended_books_dist = [0.8, 0.77, 0.77, 0.77]\n",
        "  for i in range(2): \n",
        "    if recommends[1][i][0] not in recommended_books:\n",
        "      test_pass = False\n",
        "    if abs(recommends[1][i][1] - recommended_books_dist[i]) >= 0.05:\n",
        "      test_pass = False\n",
        "  if test_pass:\n",
        "    print(\"You passed the challenge! 🎉🎉🎉🎉🎉\")\n",
        "  else:\n",
        "    print(\"You haven't passed yet. Keep trying!\")\n",
        "\n",
        "test_book_recommendation()"
      ]
    }
  ],
  "metadata": {
    "colab": {
      "collapsed_sections": [],
      "name": "fcc_book_recommendation_knn.ipynb",
      "provenance": [],
      "toc_visible": true
    },
    "kernelspec": {
      "display_name": "Python 3",
      "language": "python",
      "name": "python3"
    },
    "language_info": {
      "codemirror_mode": {
        "name": "ipython",
        "version": 3
      },
      "file_extension": ".py",
      "mimetype": "text/x-python",
      "name": "python",
      "nbconvert_exporter": "python",
      "pygments_lexer": "ipython3",
      "version": "3.10.2"
    }
  },
  "nbformat": 4,
  "nbformat_minor": 0
}
